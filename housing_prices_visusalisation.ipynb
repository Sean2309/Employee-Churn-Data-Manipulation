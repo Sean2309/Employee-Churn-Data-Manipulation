{
 "cells": [
  {
   "cell_type": "code",
   "execution_count": 1,
   "metadata": {},
   "outputs": [],
   "source": [
    "import pandas as pd\n",
    "import numpy as np\n",
    "from matplotlib import pyplot as plt"
   ]
  },
  {
   "cell_type": "code",
   "execution_count": 2,
   "metadata": {},
   "outputs": [
    {
     "name": "stdout",
     "output_type": "stream",
     "text": [
      "<class 'pandas.core.frame.DataFrame'>\n",
      "RangeIndex: 1460 entries, 0 to 1459\n",
      "Data columns (total 81 columns):\n",
      " #   Column         Non-Null Count  Dtype  \n",
      "---  ------         --------------  -----  \n",
      " 0   Id             1460 non-null   int64  \n",
      " 1   MSSubClass     1460 non-null   int64  \n",
      " 2   MSZoning       1460 non-null   object \n",
      " 3   LotFrontage    1201 non-null   float64\n",
      " 4   LotArea        1460 non-null   int64  \n",
      " 5   Street         1460 non-null   object \n",
      " 6   Alley          91 non-null     object \n",
      " 7   LotShape       1460 non-null   object \n",
      " 8   LandContour    1460 non-null   object \n",
      " 9   Utilities      1460 non-null   object \n",
      " 10  LotConfig      1460 non-null   object \n",
      " 11  LandSlope      1460 non-null   object \n",
      " 12  Neighborhood   1460 non-null   object \n",
      " 13  Condition1     1460 non-null   object \n",
      " 14  Condition2     1460 non-null   object \n",
      " 15  BldgType       1460 non-null   object \n",
      " 16  HouseStyle     1460 non-null   object \n",
      " 17  OverallQual    1460 non-null   int64  \n",
      " 18  OverallCond    1460 non-null   int64  \n",
      " 19  YearBuilt      1460 non-null   int64  \n",
      " 20  YearRemodAdd   1460 non-null   int64  \n",
      " 21  RoofStyle      1460 non-null   object \n",
      " 22  RoofMatl       1460 non-null   object \n",
      " 23  Exterior1st    1460 non-null   object \n",
      " 24  Exterior2nd    1460 non-null   object \n",
      " 25  MasVnrType     1452 non-null   object \n",
      " 26  MasVnrArea     1452 non-null   float64\n",
      " 27  ExterQual      1460 non-null   object \n",
      " 28  ExterCond      1460 non-null   object \n",
      " 29  Foundation     1460 non-null   object \n",
      " 30  BsmtQual       1423 non-null   object \n",
      " 31  BsmtCond       1423 non-null   object \n",
      " 32  BsmtExposure   1422 non-null   object \n",
      " 33  BsmtFinType1   1423 non-null   object \n",
      " 34  BsmtFinSF1     1460 non-null   int64  \n",
      " 35  BsmtFinType2   1422 non-null   object \n",
      " 36  BsmtFinSF2     1460 non-null   int64  \n",
      " 37  BsmtUnfSF      1460 non-null   int64  \n",
      " 38  TotalBsmtSF    1460 non-null   int64  \n",
      " 39  Heating        1460 non-null   object \n",
      " 40  HeatingQC      1460 non-null   object \n",
      " 41  CentralAir     1460 non-null   object \n",
      " 42  Electrical     1459 non-null   object \n",
      " 43  1stFlrSF       1460 non-null   int64  \n",
      " 44  2ndFlrSF       1460 non-null   int64  \n",
      " 45  LowQualFinSF   1460 non-null   int64  \n",
      " 46  GrLivArea      1460 non-null   int64  \n",
      " 47  BsmtFullBath   1460 non-null   int64  \n",
      " 48  BsmtHalfBath   1460 non-null   int64  \n",
      " 49  FullBath       1460 non-null   int64  \n",
      " 50  HalfBath       1460 non-null   int64  \n",
      " 51  BedroomAbvGr   1460 non-null   int64  \n",
      " 52  KitchenAbvGr   1460 non-null   int64  \n",
      " 53  KitchenQual    1460 non-null   object \n",
      " 54  TotRmsAbvGrd   1460 non-null   int64  \n",
      " 55  Functional     1460 non-null   object \n",
      " 56  Fireplaces     1460 non-null   int64  \n",
      " 57  FireplaceQu    770 non-null    object \n",
      " 58  GarageType     1379 non-null   object \n",
      " 59  GarageYrBlt    1379 non-null   float64\n",
      " 60  GarageFinish   1379 non-null   object \n",
      " 61  GarageCars     1460 non-null   int64  \n",
      " 62  GarageArea     1460 non-null   int64  \n",
      " 63  GarageQual     1379 non-null   object \n",
      " 64  GarageCond     1379 non-null   object \n",
      " 65  PavedDrive     1460 non-null   object \n",
      " 66  WoodDeckSF     1460 non-null   int64  \n",
      " 67  OpenPorchSF    1460 non-null   int64  \n",
      " 68  EnclosedPorch  1460 non-null   int64  \n",
      " 69  3SsnPorch      1460 non-null   int64  \n",
      " 70  ScreenPorch    1460 non-null   int64  \n",
      " 71  PoolArea       1460 non-null   int64  \n",
      " 72  PoolQC         7 non-null      object \n",
      " 73  Fence          281 non-null    object \n",
      " 74  MiscFeature    54 non-null     object \n",
      " 75  MiscVal        1460 non-null   int64  \n",
      " 76  MoSold         1460 non-null   int64  \n",
      " 77  YrSold         1460 non-null   int64  \n",
      " 78  SaleType       1460 non-null   object \n",
      " 79  SaleCondition  1460 non-null   object \n",
      " 80  SalePrice      1460 non-null   int64  \n",
      "dtypes: float64(3), int64(35), object(43)\n",
      "memory usage: 924.0+ KB\n"
     ]
    }
   ],
   "source": [
    "df = pd.read_csv(\"D:/Code/datasets/house prices/train.csv\", header=0, encoding='unicode_escape')\n",
    "\n",
    "df.info()"
   ]
  },
  {
   "cell_type": "code",
   "execution_count": 3,
   "metadata": {},
   "outputs": [
    {
     "name": "stdout",
     "output_type": "stream",
     "text": [
      "{'Id': {'Unique Values': 1460, 'Data Type': dtype('int64'), 'No. of Filled Rows': 1460, 'Min Value': 1, 'Max Value': 1460}, 'MSSubClass': {'Unique Values': 15, 'Data Type': dtype('int64'), 'No. of Filled Rows': 1460, 'Min Value': 20, 'Max Value': 190}, 'MSZoning': {'Unique Values': 5, 'Data Type': dtype('O'), 'No. of Filled Rows': 1460}, 'LotFrontage': {'Unique Values': 110, 'Data Type': dtype('float64'), 'No. of Filled Rows': 1201}, 'LotArea': {'Unique Values': 1073, 'Data Type': dtype('int64'), 'No. of Filled Rows': 1460, 'Min Value': 1300, 'Max Value': 215245}, 'Street': {'Unique Values': 2, 'Data Type': dtype('O'), 'No. of Filled Rows': 1460}, 'Alley': {'Unique Values': 2, 'Data Type': dtype('O'), 'No. of Filled Rows': 91}, 'LotShape': {'Unique Values': 4, 'Data Type': dtype('O'), 'No. of Filled Rows': 1460}, 'LandContour': {'Unique Values': 4, 'Data Type': dtype('O'), 'No. of Filled Rows': 1460}, 'Utilities': {'Unique Values': 2, 'Data Type': dtype('O'), 'No. of Filled Rows': 1460}, 'LotConfig': {'Unique Values': 5, 'Data Type': dtype('O'), 'No. of Filled Rows': 1460}, 'LandSlope': {'Unique Values': 3, 'Data Type': dtype('O'), 'No. of Filled Rows': 1460}, 'Neighborhood': {'Unique Values': 25, 'Data Type': dtype('O'), 'No. of Filled Rows': 1460}, 'Condition1': {'Unique Values': 9, 'Data Type': dtype('O'), 'No. of Filled Rows': 1460}, 'Condition2': {'Unique Values': 8, 'Data Type': dtype('O'), 'No. of Filled Rows': 1460}, 'BldgType': {'Unique Values': 5, 'Data Type': dtype('O'), 'No. of Filled Rows': 1460}, 'HouseStyle': {'Unique Values': 8, 'Data Type': dtype('O'), 'No. of Filled Rows': 1460}, 'OverallQual': {'Unique Values': 10, 'Data Type': dtype('int64'), 'No. of Filled Rows': 1460, 'Min Value': 1, 'Max Value': 10}, 'OverallCond': {'Unique Values': 9, 'Data Type': dtype('int64'), 'No. of Filled Rows': 1460, 'Min Value': 1, 'Max Value': 9}, 'YearBuilt': {'Unique Values': 112, 'Data Type': dtype('int64'), 'No. of Filled Rows': 1460, 'Min Value': 1872, 'Max Value': 2010}, 'YearRemodAdd': {'Unique Values': 61, 'Data Type': dtype('int64'), 'No. of Filled Rows': 1460, 'Min Value': 1950, 'Max Value': 2010}, 'RoofStyle': {'Unique Values': 6, 'Data Type': dtype('O'), 'No. of Filled Rows': 1460}, 'RoofMatl': {'Unique Values': 8, 'Data Type': dtype('O'), 'No. of Filled Rows': 1460}, 'Exterior1st': {'Unique Values': 15, 'Data Type': dtype('O'), 'No. of Filled Rows': 1460}, 'Exterior2nd': {'Unique Values': 16, 'Data Type': dtype('O'), 'No. of Filled Rows': 1460}, 'MasVnrType': {'Unique Values': 4, 'Data Type': dtype('O'), 'No. of Filled Rows': 1452}, 'MasVnrArea': {'Unique Values': 327, 'Data Type': dtype('float64'), 'No. of Filled Rows': 1452}, 'ExterQual': {'Unique Values': 4, 'Data Type': dtype('O'), 'No. of Filled Rows': 1460}, 'ExterCond': {'Unique Values': 5, 'Data Type': dtype('O'), 'No. of Filled Rows': 1460}, 'Foundation': {'Unique Values': 6, 'Data Type': dtype('O'), 'No. of Filled Rows': 1460}, 'BsmtQual': {'Unique Values': 4, 'Data Type': dtype('O'), 'No. of Filled Rows': 1423}, 'BsmtCond': {'Unique Values': 4, 'Data Type': dtype('O'), 'No. of Filled Rows': 1423}, 'BsmtExposure': {'Unique Values': 4, 'Data Type': dtype('O'), 'No. of Filled Rows': 1422}, 'BsmtFinType1': {'Unique Values': 6, 'Data Type': dtype('O'), 'No. of Filled Rows': 1423}, 'BsmtFinSF1': {'Unique Values': 637, 'Data Type': dtype('int64'), 'No. of Filled Rows': 1460, 'Min Value': 0, 'Max Value': 5644}, 'BsmtFinType2': {'Unique Values': 6, 'Data Type': dtype('O'), 'No. of Filled Rows': 1422}, 'BsmtFinSF2': {'Unique Values': 144, 'Data Type': dtype('int64'), 'No. of Filled Rows': 1460, 'Min Value': 0, 'Max Value': 1474}, 'BsmtUnfSF': {'Unique Values': 780, 'Data Type': dtype('int64'), 'No. of Filled Rows': 1460, 'Min Value': 0, 'Max Value': 2336}, 'TotalBsmtSF': {'Unique Values': 721, 'Data Type': dtype('int64'), 'No. of Filled Rows': 1460, 'Min Value': 0, 'Max Value': 6110}, 'Heating': {'Unique Values': 6, 'Data Type': dtype('O'), 'No. of Filled Rows': 1460}, 'HeatingQC': {'Unique Values': 5, 'Data Type': dtype('O'), 'No. of Filled Rows': 1460}, 'CentralAir': {'Unique Values': 2, 'Data Type': dtype('O'), 'No. of Filled Rows': 1460}, 'Electrical': {'Unique Values': 5, 'Data Type': dtype('O'), 'No. of Filled Rows': 1459}, '1stFlrSF': {'Unique Values': 753, 'Data Type': dtype('int64'), 'No. of Filled Rows': 1460, 'Min Value': 334, 'Max Value': 4692}, '2ndFlrSF': {'Unique Values': 417, 'Data Type': dtype('int64'), 'No. of Filled Rows': 1460, 'Min Value': 0, 'Max Value': 2065}, 'LowQualFinSF': {'Unique Values': 24, 'Data Type': dtype('int64'), 'No. of Filled Rows': 1460, 'Min Value': 0, 'Max Value': 572}, 'GrLivArea': {'Unique Values': 861, 'Data Type': dtype('int64'), 'No. of Filled Rows': 1460, 'Min Value': 334, 'Max Value': 5642}, 'BsmtFullBath': {'Unique Values': 4, 'Data Type': dtype('int64'), 'No. of Filled Rows': 1460, 'Min Value': 0, 'Max Value': 3}, 'BsmtHalfBath': {'Unique Values': 3, 'Data Type': dtype('int64'), 'No. of Filled Rows': 1460, 'Min Value': 0, 'Max Value': 2}, 'FullBath': {'Unique Values': 4, 'Data Type': dtype('int64'), 'No. of Filled Rows': 1460, 'Min Value': 0, 'Max Value': 3}, 'HalfBath': {'Unique Values': 3, 'Data Type': dtype('int64'), 'No. of Filled Rows': 1460, 'Min Value': 0, 'Max Value': 2}, 'BedroomAbvGr': {'Unique Values': 8, 'Data Type': dtype('int64'), 'No. of Filled Rows': 1460, 'Min Value': 0, 'Max Value': 8}, 'KitchenAbvGr': {'Unique Values': 4, 'Data Type': dtype('int64'), 'No. of Filled Rows': 1460, 'Min Value': 0, 'Max Value': 3}, 'KitchenQual': {'Unique Values': 4, 'Data Type': dtype('O'), 'No. of Filled Rows': 1460}, 'TotRmsAbvGrd': {'Unique Values': 12, 'Data Type': dtype('int64'), 'No. of Filled Rows': 1460, 'Min Value': 2, 'Max Value': 14}, 'Functional': {'Unique Values': 7, 'Data Type': dtype('O'), 'No. of Filled Rows': 1460}, 'Fireplaces': {'Unique Values': 4, 'Data Type': dtype('int64'), 'No. of Filled Rows': 1460, 'Min Value': 0, 'Max Value': 3}, 'FireplaceQu': {'Unique Values': 5, 'Data Type': dtype('O'), 'No. of Filled Rows': 770}, 'GarageType': {'Unique Values': 6, 'Data Type': dtype('O'), 'No. of Filled Rows': 1379}, 'GarageYrBlt': {'Unique Values': 97, 'Data Type': dtype('float64'), 'No. of Filled Rows': 1379}, 'GarageFinish': {'Unique Values': 3, 'Data Type': dtype('O'), 'No. of Filled Rows': 1379}, 'GarageCars': {'Unique Values': 5, 'Data Type': dtype('int64'), 'No. of Filled Rows': 1460, 'Min Value': 0, 'Max Value': 4}, 'GarageArea': {'Unique Values': 441, 'Data Type': dtype('int64'), 'No. of Filled Rows': 1460, 'Min Value': 0, 'Max Value': 1418}, 'GarageQual': {'Unique Values': 5, 'Data Type': dtype('O'), 'No. of Filled Rows': 1379}, 'GarageCond': {'Unique Values': 5, 'Data Type': dtype('O'), 'No. of Filled Rows': 1379}, 'PavedDrive': {'Unique Values': 3, 'Data Type': dtype('O'), 'No. of Filled Rows': 1460}, 'WoodDeckSF': {'Unique Values': 274, 'Data Type': dtype('int64'), 'No. of Filled Rows': 1460, 'Min Value': 0, 'Max Value': 857}, 'OpenPorchSF': {'Unique Values': 202, 'Data Type': dtype('int64'), 'No. of Filled Rows': 1460, 'Min Value': 0, 'Max Value': 547}, 'EnclosedPorch': {'Unique Values': 120, 'Data Type': dtype('int64'), 'No. of Filled Rows': 1460, 'Min Value': 0, 'Max Value': 552}, '3SsnPorch': {'Unique Values': 20, 'Data Type': dtype('int64'), 'No. of Filled Rows': 1460, 'Min Value': 0, 'Max Value': 508}, 'ScreenPorch': {'Unique Values': 76, 'Data Type': dtype('int64'), 'No. of Filled Rows': 1460, 'Min Value': 0, 'Max Value': 480}, 'PoolArea': {'Unique Values': 8, 'Data Type': dtype('int64'), 'No. of Filled Rows': 1460, 'Min Value': 0, 'Max Value': 738}, 'PoolQC': {'Unique Values': 3, 'Data Type': dtype('O'), 'No. of Filled Rows': 7}, 'Fence': {'Unique Values': 4, 'Data Type': dtype('O'), 'No. of Filled Rows': 281}, 'MiscFeature': {'Unique Values': 4, 'Data Type': dtype('O'), 'No. of Filled Rows': 54}, 'MiscVal': {'Unique Values': 21, 'Data Type': dtype('int64'), 'No. of Filled Rows': 1460, 'Min Value': 0, 'Max Value': 15500}, 'MoSold': {'Unique Values': 12, 'Data Type': dtype('int64'), 'No. of Filled Rows': 1460, 'Min Value': 1, 'Max Value': 12}, 'YrSold': {'Unique Values': 5, 'Data Type': dtype('int64'), 'No. of Filled Rows': 1460, 'Min Value': 2006, 'Max Value': 2010}, 'SaleType': {'Unique Values': 9, 'Data Type': dtype('O'), 'No. of Filled Rows': 1460}, 'SaleCondition': {'Unique Values': 6, 'Data Type': dtype('O'), 'No. of Filled Rows': 1460}, 'SalePrice': {'Unique Values': 663, 'Data Type': dtype('int64'), 'No. of Filled Rows': 1460, 'Min Value': 34900, 'Max Value': 755000}}\n",
      "81\n"
     ]
    }
   ],
   "source": [
    "# Function for initial parsing of df information\n",
    "\n",
    "# Goals:\n",
    "# For each col, find out the number of unique values, data type, number of NaN/null values\n",
    "# create a dictionary output that contains all this information\n",
    "df_data = {}\n",
    "\n",
    "for column in list(df): # col name\n",
    "    data_to_append = {}\n",
    "\n",
    "    # Unique Values\n",
    "    number_of_unique_values = df[f\"{column}\"].nunique()\n",
    "    data_to_append[\"Unique Values\"] = number_of_unique_values\n",
    "\n",
    "    # Data Type\n",
    "    data_type = df[f\"{column}\"].dtype\n",
    "    data_to_append[\"Data Type\"] = data_type\n",
    "    #data type for some columns \n",
    "\n",
    "\n",
    "    # Count of Non Null rows per column\n",
    "    filled_row_count = df[f\"{column}\"].notnull().sum()\n",
    "    data_to_append[\"No. of Filled Rows\"] = filled_row_count\n",
    "\n",
    "    # Min Value - change this to isdigit/isalphnumeric etc to account for other numerical data types\n",
    "    if data_type == \"int64\":\n",
    "        min_value = df[f\"{column}\"].min()\n",
    "        data_to_append[\"Min Value\"] = min_value\n",
    "\n",
    "    # Max Value\n",
    "    if data_type == \"int64\":\n",
    "        max_value = df[f\"{column}\"].max()\n",
    "        data_to_append[\"Max Value\"] = max_value\n",
    "\n",
    "    df_data[f\"{column}\"] = data_to_append\n",
    "\n",
    "print(df_data)\n",
    "print(len(df_data))\n",
    "\n",
    "output = {\n",
    "    \"numerical_cols\": {\n",
    "        \"a\": {\n",
    "            \"range\": []\n",
    "        }\n",
    "    },\n",
    "    \"categorical_cols\": {\n",
    "        \"b\": {\n",
    "            \"number of unique\": 3,\n",
    "\n",
    "        }\n",
    "    },\n",
    "    \"datetime_cols\": {}\n",
    "}"
   ]
  },
  {
   "cell_type": "code",
   "execution_count": 11,
   "metadata": {},
   "outputs": [
    {
     "name": "stdout",
     "output_type": "stream",
     "text": [
      "{'Id': {'Data Type': 'Numerical', 'Range': '1-1460'}, 'MSSubClass': {'Data Type': 'Numerical', 'Range': '20-190'}, 'MSZoning': {'Data Type': 'Categorical', 'Unique Values': 5}, 'LotFrontage': {'Data Type': 'Numerical', 'Range': '21.0-313.0'}, 'LotArea': {'Data Type': 'Numerical', 'Range': '1300-215245'}, 'Street': {'Data Type': 'Categorical', 'Unique Values': 2}, 'Alley': {'Data Type': 'Categorical', 'Unique Values': 2}, 'LotShape': {'Data Type': 'Categorical', 'Unique Values': 4}, 'LandContour': {'Data Type': 'Categorical', 'Unique Values': 4}, 'Utilities': {'Data Type': 'Categorical', 'Unique Values': 2}, 'LotConfig': {'Data Type': 'Categorical', 'Unique Values': 5}, 'LandSlope': {'Data Type': 'Categorical', 'Unique Values': 3}, 'Neighborhood': {'Data Type': 'Categorical', 'Unique Values': 25}, 'Condition1': {'Data Type': 'Categorical', 'Unique Values': 9}, 'Condition2': {'Data Type': 'Categorical', 'Unique Values': 8}, 'BldgType': {'Data Type': 'Categorical', 'Unique Values': 5}, 'HouseStyle': {'Data Type': 'Categorical', 'Unique Values': 8}, 'OverallQual': {'Data Type': 'Numerical', 'Range': '1-10'}, 'OverallCond': {'Data Type': 'Numerical', 'Range': '1-9'}, 'YearBuilt': {'Data Type': 'Numerical', 'Range': '1872-2010'}, 'YearRemodAdd': {'Data Type': 'Numerical', 'Range': '1950-2010'}, 'RoofStyle': {'Data Type': 'Categorical', 'Unique Values': 6}, 'RoofMatl': {'Data Type': 'Categorical', 'Unique Values': 8}, 'Exterior1st': {'Data Type': 'Categorical', 'Unique Values': 15}, 'Exterior2nd': {'Data Type': 'Categorical', 'Unique Values': 16}, 'MasVnrType': {'Data Type': 'Categorical', 'Unique Values': 4}, 'MasVnrArea': {'Data Type': 'Numerical', 'Range': '0.0-1600.0'}, 'ExterQual': {'Data Type': 'Categorical', 'Unique Values': 4}, 'ExterCond': {'Data Type': 'Categorical', 'Unique Values': 5}, 'Foundation': {'Data Type': 'Categorical', 'Unique Values': 6}, 'BsmtQual': {'Data Type': 'Categorical', 'Unique Values': 4}, 'BsmtCond': {'Data Type': 'Categorical', 'Unique Values': 4}, 'BsmtExposure': {'Data Type': 'Categorical', 'Unique Values': 4}, 'BsmtFinType1': {'Data Type': 'Categorical', 'Unique Values': 6}, 'BsmtFinSF1': {'Data Type': 'Numerical', 'Range': '0-5644'}, 'BsmtFinType2': {'Data Type': 'Categorical', 'Unique Values': 6}, 'BsmtFinSF2': {'Data Type': 'Numerical', 'Range': '0-1474'}, 'BsmtUnfSF': {'Data Type': 'Numerical', 'Range': '0-2336'}, 'TotalBsmtSF': {'Data Type': 'Numerical', 'Range': '0-6110'}, 'Heating': {'Data Type': 'Categorical', 'Unique Values': 6}, 'HeatingQC': {'Data Type': 'Categorical', 'Unique Values': 5}, 'CentralAir': {'Data Type': 'Categorical', 'Unique Values': 2}, 'Electrical': {'Data Type': 'Categorical', 'Unique Values': 5}, '1stFlrSF': {'Data Type': 'Numerical', 'Range': '334-4692'}, '2ndFlrSF': {'Data Type': 'Numerical', 'Range': '0-2065'}, 'LowQualFinSF': {'Data Type': 'Numerical', 'Range': '0-572'}, 'GrLivArea': {'Data Type': 'Numerical', 'Range': '334-5642'}, 'BsmtFullBath': {'Data Type': 'Numerical', 'Range': '0-3'}, 'BsmtHalfBath': {'Data Type': 'Numerical', 'Range': '0-2'}, 'FullBath': {'Data Type': 'Numerical', 'Range': '0-3'}, 'HalfBath': {'Data Type': 'Numerical', 'Range': '0-2'}, 'BedroomAbvGr': {'Data Type': 'Numerical', 'Range': '0-8'}, 'KitchenAbvGr': {'Data Type': 'Numerical', 'Range': '0-3'}, 'KitchenQual': {'Data Type': 'Categorical', 'Unique Values': 4}, 'TotRmsAbvGrd': {'Data Type': 'Numerical', 'Range': '2-14'}, 'Functional': {'Data Type': 'Categorical', 'Unique Values': 7}, 'Fireplaces': {'Data Type': 'Numerical', 'Range': '0-3'}, 'FireplaceQu': {'Data Type': 'Categorical', 'Unique Values': 5}, 'GarageType': {'Data Type': 'Categorical', 'Unique Values': 6}, 'GarageYrBlt': {'Data Type': 'Numerical', 'Range': '1900.0-2010.0'}, 'GarageFinish': {'Data Type': 'Categorical', 'Unique Values': 3}, 'GarageCars': {'Data Type': 'Numerical', 'Range': '0-4'}, 'GarageArea': {'Data Type': 'Numerical', 'Range': '0-1418'}, 'GarageQual': {'Data Type': 'Categorical', 'Unique Values': 5}, 'GarageCond': {'Data Type': 'Categorical', 'Unique Values': 5}, 'PavedDrive': {'Data Type': 'Categorical', 'Unique Values': 3}, 'WoodDeckSF': {'Data Type': 'Numerical', 'Range': '0-857'}, 'OpenPorchSF': {'Data Type': 'Numerical', 'Range': '0-547'}, 'EnclosedPorch': {'Data Type': 'Numerical', 'Range': '0-552'}, '3SsnPorch': {'Data Type': 'Numerical', 'Range': '0-508'}, 'ScreenPorch': {'Data Type': 'Numerical', 'Range': '0-480'}, 'PoolArea': {'Data Type': 'Numerical', 'Range': '0-738'}, 'PoolQC': {'Data Type': 'Categorical', 'Unique Values': 3}, 'Fence': {'Data Type': 'Categorical', 'Unique Values': 4}, 'MiscFeature': {'Data Type': 'Categorical', 'Unique Values': 4}, 'MiscVal': {'Data Type': 'Numerical', 'Range': '0-15500'}, 'MoSold': {'Data Type': 'Numerical', 'Range': '1-12'}, 'YrSold': {'Data Type': 'Numerical', 'Range': '2006-2010'}, 'SaleType': {'Data Type': 'Categorical', 'Unique Values': 9}, 'SaleCondition': {'Data Type': 'Categorical', 'Unique Values': 6}, 'SalePrice': {'Data Type': 'Numerical', 'Range': '34900-755000'}}\n"
     ]
    }
   ],
   "source": [
    "\n",
    "def df_info(input_df):\n",
    "    df_data = {}\n",
    "    for column in list(df):\n",
    "        data_to_append = {}\n",
    "        # first sort through what type it is \n",
    "        ## Numerical data type workflow\n",
    "        ## what if it's int32 or other variations? should i jsut convert this into a string then run .str.isnumeric operation on it?\n",
    "        # using isinstance(x,int) would not work in pandas because pandas doesnt treat an int in the same way as in native python\n",
    "\n",
    "        if df[f\"{column}\"].dtype == \"int64\" or df[f\"{column}\"].dtype == \"float64\":\n",
    "            # then i should append a data type that shows that its a numerical \n",
    "            data_to_append[\"Data Type\"] = \"Numerical\"\n",
    "            # range\n",
    "            max_value = df[f\"{column}\"].max()\n",
    "            min_value = df[f\"{column}\"].min()\n",
    "            data_to_append[\"Range\"] = str(min_value) + \"-\" + str(max_value)\n",
    "\n",
    "        elif df[f\"{column}\"].dtype == \"str\" or df[f\"{column}\"].dtype == \"O\":\n",
    "            data_to_append[\"Data Type\"] = \"Categorical\"\n",
    "            number_of_unique_values = df[f\"{column}\"].nunique()\n",
    "            data_to_append[\"Unique Values\"] = number_of_unique_values\n",
    "\n",
    "        #datetime type\n",
    "        elif df[f\"{column}\"].dtype == \"datetime64\":\n",
    "            data_to_append[\"Data Type\"] = \"Date Time\"\n",
    "\n",
    "        # from there => add more details for each column respectively\n",
    "        df_data[f\"{column}\"] = data_to_append\n",
    "    \n",
    "    return df_data\n",
    "\n",
    "print(df_info(df))\n",
    "\n",
    "output1 = {\n",
    "    \"col a\": {\n",
    "        \"data type\": \"numeric/categorical/datetime\" \n",
    "        \"if numeric - give range\"\n",
    "        \"if categorical - give number of unique values (i.e categories) \" \n",
    "\n",
    "    }\n",
    "\n",
    "}"
   ]
  },
  {
   "cell_type": "code",
   "execution_count": 5,
   "metadata": {},
   "outputs": [
    {
     "data": {
      "image/png": "[encoded data removed]",
      "text/plain": [
       "<Figure size 432x288 with 1 Axes>"
      ]
     },
     "metadata": {
      "needs_background": "light"
     },
     "output_type": "display_data"
    }
   ],
   "source": [
    "## Storing impt columns as variables\n",
    "year_sold = df[\"YrSold\"]\n",
    "house_class = df[\"MSSubClass\"]\n",
    "\n",
    "# Scatter plot\n",
    "plt.scatter(year_sold, house_class)\n",
    "plt.title(\"Year of sold houses based on housing class\")\n",
    "plt.xlabel(\"Year\")\n",
    "plt.ylabel(\"Housing Class\")\n",
    "plt.tight_layout()\n",
    "plt.show()"
   ]
  },
  {
   "cell_type": "code",
   "execution_count": 19,
   "metadata": {},
   "outputs": [
    {
     "ename": "SyntaxError",
     "evalue": "invalid syntax (3281183669.py, line 13)",
     "output_type": "error",
     "traceback": [
      "\u001b[1;36m  Input \u001b[1;32mIn [19]\u001b[1;36m\u001b[0m\n\u001b[1;33m    plt.\"{}\"(housing_class_df[\"MSSubClass\"], housing_class_df[\"Total\"]).format(visual_to_show)\u001b[0m\n\u001b[1;37m        ^\u001b[0m\n\u001b[1;31mSyntaxError\u001b[0m\u001b[1;31m:\u001b[0m invalid syntax\n"
     ]
    }
   ],
   "source": [
    "## Units sold by Housing Class\n",
    "temp_df = df.copy(deep=True)\n",
    "temp_df = temp_df[[\"MSSubClass\", \"YrSold\"]]\n",
    "temp_df[\"Unit Sold Boolean\"] = np.where(temp_df[\"YrSold\"].isnull() == 0, 1, 0)\n",
    "\n",
    "housing_class_df = temp_df[[\"MSSubClass\", \"Unit Sold Boolean\"]]\n",
    "housing_class_df[\"Total\"] = housing_class_df.groupby([\"MSSubClass\"])[\"Unit Sold Boolean\"].transform(\"sum\")\n",
    "housing_class_df = housing_class_df[[\"MSSubClass\", \"Total\"]].drop_duplicates(subset=[\"MSSubClass\"])\n",
    "housing_class_df.sort_values(by=[\"MSSubClass\"], ascending=True, inplace=True)\n",
    "\n",
    "def plotting_function(visual, x_label, y_label, title_of_visual):\n",
    "    visual_to_show = visual\n",
    "    plt.plot(housing_class_df[\"MSSubClass\"], housing_class_df[\"Total\"])\n",
    "    plt.xlabel(x_label)\n",
    "    plt.ylabel(y_label)\n",
    "    plt.title(title_of_visual)\n",
    "    plt.tight_layout()\n",
    "    plt.show()\n",
    "\n",
    "plotting_function(\"plot\", \"Housing Class\", \"Units Sold\", \"Total Number of Units sold by Housing Class from 2006-2010\")\n",
    "\n",
    "# Line Chart\n",
    "plt.plot(housing_class_df[\"MSSubClass\"], housing_class_df[\"Total\"])\n",
    "plt.xlabel(\"Housing Class\")\n",
    "plt.ylabel(\"Units Sold\")\n",
    "plt.title(\"Total Number of Units sold by Housing Class from 2006-2010\")\n",
    "plt.tight_layout()\n",
    "plt.show()\n",
    "\n",
    "# Histogram\n",
    "plt.bar(housing_class_df[\"MSSubClass\"], housing_class_df[\"Total\"], width=5)\n",
    "plt.xlabel(\"Housing Class\")\n",
    "plt.ylabel(\"Units Sold\")\n",
    "plt.title(\"Total Number of Units sold by Housing Class from 2006-2010\")\n",
    "plt.tight_layout()\n",
    "plt.show()\n",
    "\n",
    "## Create a dynamic function that can be run to plot any kind of visualisation based on arugments\n",
    "## Give reasoning for each visualisation based on the value type that youre displaying"
   ]
  },
  {
   "cell_type": "code",
   "execution_count": 7,
   "metadata": {},
   "outputs": [],
   "source": [
    "# Units sold by Year\n",
    "\n"
   ]
  }
 ],
 "metadata": {
  "interpreter": {
   "hash": "8332b6c130eec349f2e9fcd69db2701b6d91636095dbffa23b971f094a44ccc8"
  },
  "kernelspec": {
   "display_name": "Python 3.9.12 ('base')",
   "language": "python",
   "name": "python3"
  },
  "language_info": {
   "codemirror_mode": {
    "name": "ipython",
    "version": 3
   },
   "file_extension": ".py",
   "mimetype": "text/x-python",
   "name": "python",
   "nbconvert_exporter": "python",
   "pygments_lexer": "ipython3",
   "version": "3.9.12"
  },
  "orig_nbformat": 4,
  "vscode": {
   "interpreter": {
    "hash": "d3ecbdc6b5d661cf9754b3e078ad83faf274b1231a80df3185012cfc1ecc7735"
   }
  }
 },
 "nbformat": 4,
 "nbformat_minor": 2
}
